{
 "cells": [
  {
   "cell_type": "code",
   "execution_count": 1,
   "id": "c52b28f9-c7cd-41f4-97fd-4f810fa6927a",
   "metadata": {},
   "outputs": [],
   "source": [
    "from qiskit import QuantumCircuit, Aer, transpile\n",
    "from numpy import pi\n",
    "#This code is a case for QFT"
   ]
  },
  {
   "cell_type": "code",
   "execution_count": 4,
   "id": "391a8ce2-ada0-4f7c-a701-a007de819984",
   "metadata": {},
   "outputs": [],
   "source": [
    "def qft(qc):\n",
    " O_h_count = 0\n",
    " O_cp_count = 0 \n",
    " O_swap_count = 0  \n",
    " qc.x(1)\n",
    " for i in range(qc.num_qubits - 1, -1, -1):\n",
    "     qc.h(i)\n",
    "     O_h_count +=1\n",
    "     for j in range(i - 1, -1, -1):\n",
    "         qc.cp(pi / 2 ** (i - j), j, i)\n",
    "         O_cp_count+=1\n",
    " for i in range(qc.num_qubits // 2):\n",
    "     qc.swap(i, qc.num_qubits - i - 1)#reversing the order of qubits\n",
    "     O_swap_count+=1\n",
    " print(\"The total number of qbits is :\", qc.num_qubits)\n",
    " print(\"The Times of H gate is :\", O_h_count)\n",
    " print(\"The Times of cp gate is :\", O_cp_count)\n",
    " print(\"The Times of swap is :\", O_swap_count)\n",
    " return qc"
   ]
  },
  {
   "cell_type": "code",
   "execution_count": 8,
   "id": "1d2151dd-63fd-40a0-9ebb-230be7ee2190",
   "metadata": {},
   "outputs": [
    {
     "name": "stdout",
     "output_type": "stream",
     "text": [
      "The total number of qbits is : 2\n",
      "The Times of H gate is : 2\n",
      "The Times of cp gate is : 1\n",
      "The Times of swap is : 1\n"
     ]
    },
    {
     "data": {
      "image/png": "[encoded data removed]",
      "text/plain": [
       "<Figure size 621.739x200.667 with 1 Axes>"
      ]
     },
     "execution_count": 8,
     "metadata": {},
     "output_type": "execute_result"
    }
   ],
   "source": [
    "n_qubits = 2\n",
    "qc = QuantumCircuit(n_qubits)\n",
    "qc = qft(qc)\n",
    "style = {'backgroundcolor': 'lightblue'}\n",
    "qc.draw(\"mpl\", style=style)\n",
    "#print(qc)"
   ]
  },
  {
   "cell_type": "code",
   "execution_count": 9,
   "id": "aaaccae4-b225-411c-918a-0b76cf284e1b",
   "metadata": {},
   "outputs": [
    {
     "data": {
      "text/latex": [
       "$$\\frac{1}{2} |00\\rangle- \\frac{1}{2} |01\\rangle+\\frac{1}{2} |10\\rangle- \\frac{1}{2} |11\\rangle$$"
      ],
      "text/plain": [
       "<IPython.core.display.Latex object>"
      ]
     },
     "execution_count": 9,
     "metadata": {},
     "output_type": "execute_result"
    }
   ],
   "source": [
    "backend = Aer.get_backend('statevector_simulator')\n",
    "tqc = transpile(qc, backend)\n",
    "job = backend.run(tqc)\n",
    "sv = job.result().get_statevector(tqc)\n",
    "sv.draw('latex')\n",
    "#it is same as PPT showed!"
   ]
  },
  {
   "cell_type": "markdown",
   "id": "4591b34e-6f30-47c6-9b9c-1a7582d5c213",
   "metadata": {},
   "source": [
    "QFT 的时间复杂度为 O(n^2)"
   ]
  }
 ],
 "metadata": {
  "kernelspec": {
   "display_name": "Python 3 (ipykernel)",
   "language": "python",
   "name": "python3"
  },
  "language_info": {
   "codemirror_mode": {
    "name": "ipython",
    "version": 3
   },
   "file_extension": ".py",
   "mimetype": "text/x-python",
   "name": "python",
   "nbconvert_exporter": "python",
   "pygments_lexer": "ipython3",
   "version": "3.10.15"
  }
 },
 "nbformat": 4,
 "nbformat_minor": 5
}
